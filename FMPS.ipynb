{
 "cells": [
  {
   "cell_type": "markdown",
   "id": "48c2546e-d24f-4266-990e-cbe82dd0ba0f",
   "metadata": {},
   "source": [
    "## Proyecto Final del Curso Fundamentos Matemáticos del procesamiento de señales.\n",
    "\n",
    "\n",
    "Importamos las librerias necesarias a utilizar."
   ]
  },
  {
   "cell_type": "code",
   "execution_count": 1,
   "id": "98037c12-154a-47ea-b255-dec0d356baf3",
   "metadata": {},
   "outputs": [],
   "source": [
    "import numpy as np\n",
    "from scipy import signal\n",
    "import matplotlib.pyplot as plt\n",
    "from scipy.io import wavfile\n",
    "import math\n",
    "import pylab as pl"
   ]
  },
  {
   "cell_type": "code",
   "execution_count": null,
   "id": "393438fb-f3e4-4100-bb9a-5beba5d8f9ba",
   "metadata": {},
   "outputs": [],
   "source": []
  }
 ],
 "metadata": {
  "kernelspec": {
   "display_name": "Python 3 (ipykernel)",
   "language": "python",
   "name": "python3"
  },
  "language_info": {
   "codemirror_mode": {
    "name": "ipython",
    "version": 3
   },
   "file_extension": ".py",
   "mimetype": "text/x-python",
   "name": "python",
   "nbconvert_exporter": "python",
   "pygments_lexer": "ipython3",
   "version": "3.9.7"
  }
 },
 "nbformat": 4,
 "nbformat_minor": 5
}
